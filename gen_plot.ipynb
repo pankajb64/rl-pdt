{
 "cells": [
  {
   "cell_type": "code",
   "execution_count": 1,
   "metadata": {
    "collapsed": true
   },
   "outputs": [],
   "source": [
    "import numpy as np\n",
    "import matplotlib.pyplot as plt\n",
    "from collections import defaultdict"
   ]
  },
  {
   "cell_type": "code",
   "execution_count": 2,
   "metadata": {},
   "outputs": [
    {
     "data": {
      "text/plain": [
       "\"lines4 = []\\nwith open('out_QLearningTLF_pd.csv', 'r') as f:\\n    lines4 = f.readlines()\\nlines4 = lines4[1:]\\nlines4 = [line.split(',') for line in lines4]\\n\\nlines5 = []\\nwith open('out_QLearningTLFASH_pd.csv', 'r') as f:\\n    lines5 = f.readlines()\\nlines5 = lines5[1:]\\nlines5 = [line.split(',') for line in lines5]\""
      ]
     },
     "execution_count": 2,
     "metadata": {},
     "output_type": "execute_result"
    }
   ],
   "source": [
    "lines = []\n",
    "with open('out_NLGA_pd.csv', 'r') as f:\n",
    "    lines = f.readlines()\n",
    "lines = lines[1:]\n",
    "lines = [line.split(',') for line in lines]\n",
    "\n",
    "lines2 = []\n",
    "with open('out_QLearningTab_pd.csv', 'r') as f:\n",
    "    lines2 = f.readlines()\n",
    "lines2 = lines2[1:]\n",
    "lines2 = [line.split(',') for line in lines2]\n",
    "\n",
    "lines3 = []\n",
    "with open('out_QLearningTabASH_pd.csv', 'r') as f:\n",
    "    lines3 = f.readlines()\n",
    "lines3 = lines3[1:]\n",
    "lines3 = [line.split(',') for line in lines3]\n",
    "\n",
    "'''lines4 = []\n",
    "with open('out_QLearningTLF_pd.csv', 'r') as f:\n",
    "    lines4 = f.readlines()\n",
    "lines4 = lines4[1:]\n",
    "lines4 = [line.split(',') for line in lines4]\n",
    "\n",
    "lines5 = []\n",
    "with open('out_QLearningTLFASH_pd.csv', 'r') as f:\n",
    "    lines5 = f.readlines()\n",
    "lines5 = lines5[1:]\n",
    "lines5 = [line.split(',') for line in lines5]'''\n"
   ]
  },
  {
   "cell_type": "code",
   "execution_count": 3,
   "metadata": {},
   "outputs": [
    {
     "data": {
      "text/plain": [
       "'rewards4 = [float(line[0]) for line in lines4]\\n\\nrewards5 = [float(line[0]) for line in lines5]'"
      ]
     },
     "execution_count": 3,
     "metadata": {},
     "output_type": "execute_result"
    }
   ],
   "source": [
    "rewards = [float(line[0]) for line in lines]\n",
    "#stdevs  = [float(line[1]) for line in lines]\n",
    "\n",
    "rewards2 = [float(line[0]) for line in lines2]\n",
    "#stdevs2  = [float(line[1]) for line in lines2]\n",
    "\n",
    "rewards3 = [float(line[0]) for line in lines3]\n",
    "\n",
    "'''rewards4 = [float(line[0]) for line in lines4]\n",
    "\n",
    "rewards5 = [float(line[0]) for line in lines5]'''\n"
   ]
  },
  {
   "cell_type": "code",
   "execution_count": 4,
   "metadata": {},
   "outputs": [
    {
     "data": {
      "text/plain": [
       "'reward_cat = defaultdict(int)\\nfor r in rewards:\\n    reward_cat[r] += 1'"
      ]
     },
     "execution_count": 4,
     "metadata": {},
     "output_type": "execute_result"
    }
   ],
   "source": [
    "'''reward_cat = defaultdict(int)\n",
    "for r in rewards:\n",
    "    reward_cat[r] += 1'''"
   ]
  },
  {
   "cell_type": "code",
   "execution_count": 5,
   "metadata": {
    "collapsed": true
   },
   "outputs": [],
   "source": [
    "#print(reward_cat)"
   ]
  },
  {
   "cell_type": "code",
   "execution_count": 6,
   "metadata": {},
   "outputs": [
    {
     "name": "stdout",
     "output_type": "stream",
     "text": [
      "1000000\n",
      "[ 0.  0.  0.  0.  0.  0.  0.  0.  0.  0.]\n",
      "[0.0, 0.0, 0.0, 0.0, 0.0, 0.0, 0.0, 0.0, 0.0, 0.0]\n",
      "1000000\n",
      "[-0.05 -0.15 -0.2  -0.25 -0.3  -0.3  -0.35 -0.35 -0.35 -0.35]\n",
      "[-0.050000000000000003, -0.075000000000000011, -0.066666666666666666, -0.0625, -0.059999999999999998, -0.049999999999999996, -0.049999999999999996, -0.043749999999999997, -0.03888888888888889, -0.034999999999999996]\n",
      "1000000\n",
      "[-0.05 -0.2  -0.35 -0.45 -0.55 -0.7  -0.8  -0.9  -1.   -1.1 ]\n",
      "[-0.050000000000000003, -0.10000000000000001, -0.11666666666666665, -0.11249999999999999, -0.10999999999999999, -0.11666666666666665, -0.11428571428571428, -0.11249999999999999, -0.1111111111111111, -0.10999999999999999]\n"
     ]
    },
    {
     "data": {
      "text/plain": [
       "'cum_mean4 = []\\ncum_median4 = []\\ncum_sum4 = np.cumsum(rewards4)\\n#cum_sum12 = np.cumsum(stdevs2)\\n#cum_mean_stdevs2 = []\\nfor idx, val in enumerate(cum_sum4):\\n    sum1 = val\\n    #sum2 = cum_sum12[idx]\\n    #print(val)\\n    if idx >= 50000:\\n        sum1 -= cum_sum4[idx - 50000]\\n    cum_mean4.append(sum1/min(idx+1, 50000))\\n    #cum_mean4.append(sum1/(idx+1))\\n    #cum_mean_stdevs2.append(sum2/(idx+1))\\nprint(len(cum_mean4))\\nprint(cum_sum4[:10])\\nprint(cum_mean4[:10])\\n\\ncum_mean5 = []\\ncum_sum5 = np.cumsum(rewards5)\\nfor idx, val in enumerate(cum_sum5):\\n    sum1 = val\\n    if idx >= 50000:\\n        sum1 -= cum_sum5[idx - 50000]\\n    cum_mean5.append(sum1/min(idx+1, 50000))\\n    #cum_mean5.append(sum1/(idx+1))\\nprint(len(cum_mean5))\\nprint(cum_sum5[:10])\\nprint(cum_mean5[:10])'"
      ]
     },
     "execution_count": 6,
     "metadata": {},
     "output_type": "execute_result"
    }
   ],
   "source": [
    "cum_mean = []\n",
    "cum_median = []\n",
    "cum_sum = np.cumsum(rewards)\n",
    "#cum_sum1 = np.cumsum(stdevs)\n",
    "cum_mean_stdevs = []\n",
    "for idx, val in enumerate(cum_sum):\n",
    "    sum1 = val\n",
    "    #sum2 = cum_sum1[idx]\n",
    "    #print(val)\n",
    "    #if idx >= 50000:\n",
    "    #    sum1 -= cum_sum[idx - 50000]\n",
    "    #cum_mean.append(sum1/min(idx+1, 50000))\n",
    "    cum_mean.append(sum1/(idx+1))\n",
    "    #cum_mean_stdevs.append(sum2/(idx+1))\n",
    "print(len(cum_mean))\n",
    "print(cum_sum[:10])\n",
    "print(cum_mean[:10])\n",
    "'''for i in range(len(rewards)):\n",
    "    cum_median.append(np.median(rewards[:i]))'''\n",
    "\n",
    "cum_mean2 = []\n",
    "cum_median2 = []\n",
    "cum_sum2 = np.cumsum(rewards2)\n",
    "#cum_sum12 = np.cumsum(stdevs2)\n",
    "cum_mean_stdevs2 = []\n",
    "for idx, val in enumerate(cum_sum2):\n",
    "    sum1 = val\n",
    "    #sum2 = cum_sum12[idx]\n",
    "    #print(val)\n",
    "    if idx >= 50000:\n",
    "        sum1 -= cum_sum2[idx - 50000]\n",
    "    cum_mean2.append(sum1/min(idx+1, 50000))\n",
    "    #cum_mean2.append(sum1/(idx+1))\n",
    "    #cum_mean_stdevs2.append(sum2/(idx+1))\n",
    "print(len(cum_mean2))\n",
    "print(cum_sum2[:10])\n",
    "print(cum_mean2[:10])\n",
    "'''for i in range(len(rewards)):\n",
    "    cum_median.append(np.median(rewards[:i]))'''\n",
    "\n",
    "cum_mean3 = []\n",
    "cum_sum3 = np.cumsum(rewards3)\n",
    "for idx, val in enumerate(cum_sum3):\n",
    "    sum1 = val\n",
    "    if idx >= 50000:\n",
    "        sum1 -= cum_sum3[idx - 50000]\n",
    "    cum_mean3.append(sum1/min(idx+1, 50000))\n",
    "    #cum_mean3.append(sum1/(idx+1))\n",
    "print(len(cum_mean3))\n",
    "print(cum_sum3[:10])\n",
    "print(cum_mean3[:10])\n",
    "'''for i in range(len(rewards)):\n",
    "    cum_median.append(np.median(rewards[:i]))'''\n",
    "\n",
    "'''cum_mean4 = []\n",
    "cum_median4 = []\n",
    "cum_sum4 = np.cumsum(rewards4)\n",
    "#cum_sum12 = np.cumsum(stdevs2)\n",
    "#cum_mean_stdevs2 = []\n",
    "for idx, val in enumerate(cum_sum4):\n",
    "    sum1 = val\n",
    "    #sum2 = cum_sum12[idx]\n",
    "    #print(val)\n",
    "    if idx >= 50000:\n",
    "        sum1 -= cum_sum4[idx - 50000]\n",
    "    cum_mean4.append(sum1/min(idx+1, 50000))\n",
    "    #cum_mean4.append(sum1/(idx+1))\n",
    "    #cum_mean_stdevs2.append(sum2/(idx+1))\n",
    "print(len(cum_mean4))\n",
    "print(cum_sum4[:10])\n",
    "print(cum_mean4[:10])\n",
    "\n",
    "cum_mean5 = []\n",
    "cum_sum5 = np.cumsum(rewards5)\n",
    "for idx, val in enumerate(cum_sum5):\n",
    "    sum1 = val\n",
    "    if idx >= 50000:\n",
    "        sum1 -= cum_sum5[idx - 50000]\n",
    "    cum_mean5.append(sum1/min(idx+1, 50000))\n",
    "    #cum_mean5.append(sum1/(idx+1))\n",
    "print(len(cum_mean5))\n",
    "print(cum_sum5[:10])\n",
    "print(cum_mean5[:10])'''\n"
   ]
  },
  {
   "cell_type": "code",
   "execution_count": 7,
   "metadata": {},
   "outputs": [
    {
     "name": "stdout",
     "output_type": "stream",
     "text": [
      "50.001\n"
     ]
    }
   ],
   "source": [
    "x = [(i+1)/1000 for i in range(len(cum_sum))]\n",
    "print(x[50000])"
   ]
  },
  {
   "cell_type": "code",
   "execution_count": 8,
   "metadata": {
    "scrolled": true
   },
   "outputs": [
    {
     "data": {
      "image/png": "[encoded data removed]",
      "text/plain": [
       "<matplotlib.figure.Figure at 0x12ac288ab00>"
      ]
     },
     "metadata": {},
     "output_type": "display_data"
    }
   ],
   "source": [
    "plt.figure(figsize=(15,6))\n",
    "plt.plot(x[000000:], cum_mean[000000:], label='Non-Learning Greedy Agent')\n",
    "plt.plot(x[000000:], cum_mean2[000000:], label='Q Learning Agent')\n",
    "plt.plot(x[000000:], cum_mean3[000000:], label='After-State Q Learning Agent')\n",
    "#plt.plot(x[000000:], cum_mean4[000000:], label='Q Learning TLF Agent')\n",
    "#plt.plot(x[000000:], cum_mean5[000000:], label='After-State Q Learning TLF Agent')\n",
    "plt.xlabel('Number of iterations (in 1000s)')\n",
    "plt.ylabel('On-line Average Reward')\n",
    "plt.title('Plot of On-line Average Reward vs No of Iterations for Different Agents')\n",
    "plt.legend()\n",
    "#plt.yticks(np.arange(-5, 1, 0.5))\n",
    "plt.show()"
   ]
  },
  {
   "cell_type": "code",
   "execution_count": 98,
   "metadata": {},
   "outputs": [
    {
     "name": "stdout",
     "output_type": "stream",
     "text": [
      "-11511.0100424\n"
     ]
    }
   ],
   "source": [
    "print(cum_sum3[500000] - cum_sum3[500000-50000])"
   ]
  },
  {
   "cell_type": "code",
   "execution_count": null,
   "metadata": {
    "collapsed": true
   },
   "outputs": [],
   "source": []
  }
 ],
 "metadata": {
  "kernelspec": {
   "display_name": "Python 3",
   "language": "python",
   "name": "python3"
  },
  "language_info": {
   "codemirror_mode": {
    "name": "ipython",
    "version": 3
   },
   "file_extension": ".py",
   "mimetype": "text/x-python",
   "name": "python",
   "nbconvert_exporter": "python",
   "pygments_lexer": "ipython3",
   "version": "3.5.3"
  }
 },
 "nbformat": 4,
 "nbformat_minor": 2
}
